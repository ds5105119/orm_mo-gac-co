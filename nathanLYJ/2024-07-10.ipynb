{
 "cells": [
  {
   "cell_type": "markdown",
   "metadata": {},
   "source": [
    "### 1번 더하기\n",
    "#### 문제 설명\n",
    "- 제한 사항\n",
    "- 1 ≤ 리스트 안의 수 ≤ 100\n",
    "- 숫자 외에 다른 값은 주어지지 않습니다.\n",
    "- 각각의 값은 1차원 리스트로 주어집니다.\n",
    "- 리스트 안에 값이 없는 경우는 0으로 출력해야 합니다.\n",
    "\n",
    "* 입력 \n",
    "\t1. [1, 2, 3, 4, 5]\n",
    "\t2. [3, 5, 7, 1]\t\n",
    "* 출력 \t\n",
    "\t1. 9\n",
    "\t2. 16\n",
    "<details>\n",
    "<summary>접기/펼치기</summary>\n",
    "입출력 설명[1, 2, 3, 4, 5] 중에서 홀수는 [1, 3, 5]입니다. 이 숫자를 모두 더하면 9가 됩니다.\n",
    "</details>"
   ]
  },
  {
   "cell_type": "code",
   "execution_count": null,
   "metadata": {},
   "outputs": [],
   "source": [
    "data = [1, 2, 3, 4, 5]\n",
    "\n",
    "def solution(data):\n",
    "    sum = 0\n",
    "    for i in data:\n",
    "        if i % 2 != 0:\n",
    "        \tsum += i\n",
    "    return sum\n",
    "\n",
    "print(solution(data))"
   ]
  },
  {
   "cell_type": "markdown",
   "metadata": {},
   "source": [
    "### 2번 곱하기\n",
    "#### 문제 설멸\n",
    "- 제한 사항\n",
    "- 1 ≤ 리스트 안의 수 ≤ 100\n",
    "- 숫자 외에 다른 값은 주어지지 않습니다.\n",
    "- 각각의 값은 1차원 리스트로 주어집니다.\n",
    "- 리스트 안에 값이 없는 경우는 0으로 출력해야 합니다.\n",
    "\n",
    "* 입력\n",
    "\t1. [1, 2, 3, 4, 5]\n",
    "\t2. [3, 5, 7, 1]\n",
    "* 출력\n",
    "\t1. 120\n",
    "\t2. 105\n",
    "<details>\n",
    "<summary>접기/펼치기</summary>\n",
    "[1, 2, 3, 4, 5]를 모두 곱하면 1 * 2 * 3 * 4 * 5로 120이 됩니다.\n",
    "</details>"
   ]
  },
  {
   "cell_type": "code",
   "execution_count": null,
   "metadata": {},
   "outputs": [],
   "source": [
    "data = []\n",
    "\n",
    "def solution(data):\n",
    "    if not data:\n",
    "        return 0\n",
    "    result = 1\n",
    "    for i in data:\n",
    "        result *= i\n",
    "    return result\n",
    "\n",
    "\n",
    "print(solution(data))"
   ]
  },
  {
   "cell_type": "markdown",
   "metadata": {},
   "source": [
    "### 3번 조건 덧셈\n",
    "#### 문제 설멸\n",
    "- 제한 사항\n",
    "- 1 ≤ 리스트 안의 수 ≤ 100\n",
    "- 숫자 외에 다른 값은 주어지지 않습니다.\n",
    "- 각각의 값은 1차원 리스트로 주어집니다.\n",
    "- 리스트 안에 더할 값이 없는 경우 0으로 출력해야 합니다.\n",
    "\n",
    "* 입력\n",
    "\t1. [1, 2, 3, 4, 5]\n",
    "\t2. [3, 5, 7, 1]\n",
    "* 출력\n",
    "\t1. 7\n",
    "\t2. 8\n",
    "<details>\n",
    "<summary>접기/펼치기</summary>\n",
    "[1, 2, 3, 4, 5]에서 3과 5의 배수를 제외하면 [1, 2, 4]가 됩니다. 이 수를 모두 더하면 7이 됩니다.\n",
    "</details>"
   ]
  },
  {
   "cell_type": "code",
   "execution_count": null,
   "metadata": {},
   "outputs": [],
   "source": [
    "data = []\n",
    "\n",
    "def solution(data):\n",
    "    if not data:\n",
    "        return 0\n",
    "    result = 0\n",
    "    for i in data:\n",
    "        if i % 3 != 0 and i % 5 != 0:\n",
    "            result +=i\n",
    "    return result\n",
    "\n",
    "\n",
    "print(solution(data))"
   ]
  },
  {
   "cell_type": "markdown",
   "metadata": {},
   "source": [
    "### 4번 크리스마스 쿠키\n",
    "#### 문제 설멸\n",
    "- 제한 사항\n",
    "- 룰렛에는 '쿠키 1개'와 같은 문자열이 주어집니다.\n",
    "- 각각의 값은 1차원 리스트로 주어집니다.\n",
    "- 중복해서 같은 값을 뽑을 수 있습니다.\n",
    "\n",
    "* 입력\n",
    "\t1. ['쿠키 3개', '쿠키 2개', '쿠키 5개']\n",
    "\t2. ['쿠키 1개', '쿠키 2개', '쿠키 3개']\n",
    "* 출력\n",
    "\t1. 22\n",
    "\t2. 14\n",
    "<details>\n",
    "<summary>접기/펼치기</summary>\n",
    "['쿠키 3개', '쿠키 2개', '쿠키 5개']은 각각 1배, 2배, 3배가 되어야 합니다. 3 * 1 + 2 * 2 + 5 * 3으로 22가 되어야 합니다.\n",
    "</details>"
   ]
  },
  {
   "cell_type": "code",
   "execution_count": 66,
   "metadata": {},
   "outputs": [
    {
     "name": "stdout",
     "output_type": "stream",
     "text": [
      "22\n"
     ]
    }
   ],
   "source": [
    "data = ['쿠키 3개', '쿠키 2개', '쿠키 5개']\n",
    "\n",
    "def solution(data):\n",
    "    import re\n",
    "    result = 0\n",
    "    for i, item in enumerate(data, 1):\n",
    "        number = int(re.findall(r'\\d+', item)[0])\n",
    "        result += i * number\n",
    "    return result\n",
    "\n",
    "print(solution(data))  # 출력: 22"
   ]
  }
 ],
 "metadata": {
  "kernelspec": {
   "display_name": "Python 3",
   "language": "python",
   "name": "python3"
  },
  "language_info": {
   "codemirror_mode": {
    "name": "ipython",
    "version": 3
   },
   "file_extension": ".py",
   "mimetype": "text/x-python",
   "name": "python",
   "nbconvert_exporter": "python",
   "pygments_lexer": "ipython3",
   "version": "3.12.3"
  }
 },
 "nbformat": 4,
 "nbformat_minor": 2
}
