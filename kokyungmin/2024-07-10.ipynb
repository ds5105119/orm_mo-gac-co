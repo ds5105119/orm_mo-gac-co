{
 "cells": [
  {
   "cell_type": "markdown",
   "metadata": {},
   "source": [
    "https://100.pyalgo.co.kr/?page=15#\n",
    "15번 문제"
   ]
  },
  {
   "cell_type": "code",
   "execution_count": null,
   "metadata": {},
   "outputs": [],
   "source": [
    "# 1. 12시간제를 24시간제로 변환한다.\n",
    "# 2. 24시간제와 12시간제를 튜플로 묶는다.\n",
    "# 3. 24시간제를 기준으로 정렬한다.\n",
    "# 4. 12시간제만 리턴한다.\n",
    "\n",
    "from datetime import datetime\n",
    "\n",
    "def solution(times):\n",
    "    def convert_to_24h(time_str): #  12시간제 시간 문자열을 24시간제로 변환하는 함수\n",
    "        \n",
    "        time_obj = datetime.strptime(time_str, '%I:%M %p') # datetime 객체로 변환\n",
    "        # strptime 문자열을 datetime 객체로 변환할 때 사용\n",
    "        \n",
    "        return time_obj.strftime('%H:%M') # 24시간 형식의 문자열로 변환        \n",
    "        #strftime은 datetime 객체를 문자열로 변환할 때 사용\n",
    "    \n",
    "    # 시간을 24시간제로 변환하고 원래 시간과 함께 튜플로 저장\n",
    "    converted_times = [(t, convert_to_24h(t)) for t in times]\n",
    "    \n",
    "    # 24시간제 시간을 기준으로 정렬\n",
    "    sorted_times = sorted(converted_times, key=lambda x: x[1])\n",
    "    \n",
    "    # 원래의 12시간제 시간을 반환\n",
    "    return [t[0] for t in sorted_times]\n",
    "\n",
    "# 테스트\n",
    "times = ['01:00 PM', '11:30 AM', '12:45 PM', '09:00 AM', '12:00 AM']\n",
    "result = solution(times)\n",
    "print(result)"
   ]
  },
  {
   "cell_type": "code",
   "execution_count": null,
   "metadata": {},
   "outputs": [],
   "source": [
    "# 1. 12시간제를 분(minute)으로 전환한다.\n",
    "# 2. 분(minute)과 12시간제를 튜플로 묶는다.\n",
    "# 3. 분(minute)을 기준으로 정렬한다.\n",
    "# 4. 12시간제만 리턴한다.\n",
    "\n",
    "def solution(times):\n",
    "    def convert_to_minute(time_str):\n",
    "        hour, minute = map(int, time_str[:-3].split(':'))\n",
    "        period = time_str[-2:]\n",
    "        \n",
    "        if period == 'PM' and hour != 12:\n",
    "            hour += 12\n",
    "        elif period == 'AM' and hour == 12:\n",
    "            hour = 0\n",
    "        \n",
    "        return hour*60 + minute\n",
    "    \n",
    "    converted_times = [(t,convert_to_minute(t)) for t in times]\n",
    "    sorted_times = sorted(converted_times, key= lambda x : x[1])\n",
    "    return [t[0] for t in sorted_times]\n",
    "            "
   ]
  }
 ],
 "metadata": {
  "language_info": {
   "name": "python"
  }
 },
 "nbformat": 4,
 "nbformat_minor": 2
}
