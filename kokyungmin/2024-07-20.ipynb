{
 "cells": [
  {
   "cell_type": "markdown",
   "metadata": {},
   "source": [
    "https://school.programmers.co.kr/learn/courses/30/lessons/181872\n",
    "\n",
    "프로그래머스 문제\n",
    "\n",
    "문제 설명   \n",
    "문자열 myString과 pat가 주어집니다. myString의 부분 문자열중 pat로 끝나는 가장 긴 부분 문자열을 찾아서 return 하는 solution 함수를 완성해 주세요.   \n",
    "   \n",
    "제한사항   \n",
    "5 ≤ myString ≤ 20   \n",
    "1 ≤ pat ≤ 5     \n",
    "pat은 반드시 myString의 부분 문자열로 주어집니다.   \n",
    "myString과 pat에 등장하는 알파벳은 대문자와 소문자를 구분합니다.    "
   ]
  },
  {
   "cell_type": "code",
   "execution_count": null,
   "metadata": {},
   "outputs": [],
   "source": [
    "# 첫 번쨰 풀이 (내가 푼 풀이)\n",
    "def solution(myString, pat):\n",
    "    pat_len = len(pat)\n",
    "    for i in range(len(myString)):\n",
    "        a = myString[len(myString)-(i + pat_len):len(myString)-i]\n",
    "        if a == pat:\n",
    "            return myString[:len(myString)-i]\n",
    "        \n"
   ]
  },
  {
   "cell_type": "code",
   "execution_count": null,
   "metadata": {},
   "outputs": [],
   "source": [
    "# 다른 사람의 풀이\n",
    "solution=lambda x,y:x[:x.rindex(y)+len(y)]\n",
    "\n",
    "# 동작 과정:\n",
    "\n",
    "# x.rindex(y): 문자열 x에서 문자열 y가 마지막으로 등장하는 인덱스를 찾습니다. \n",
    "#               rindex 함수는 오른쪽에서부터 검색을 시작하여 y의 첫 번째 문자의 인덱스를 반환합니다. \n",
    "#               만약 y가 x에 없으면 ValueError를 발생시킵니다.\n",
    "# x.rindex(y) + len(y): y의 마지막 등장 위치에 y의 길이를 더해, y가 끝나는 인덱스를 계산합니다.\n",
    "# x[:x.rindex(y) + len(y)]: x 문자열의 처음부터 y가 끝나는 인덱스까지의 부분 문자열을 반환합니다."
   ]
  }
 ],
 "metadata": {
  "language_info": {
   "name": "python"
  }
 },
 "nbformat": 4,
 "nbformat_minor": 2
}
