{
 "cells": [
  {
   "cell_type": "markdown",
   "metadata": {},
   "source": [
    "https://100.pyalgo.co.kr/?page=10#\n",
    "10번 문제"
   ]
  },
  {
   "cell_type": "code",
   "execution_count": null,
   "metadata": {},
   "outputs": [],
   "source": [
    "def solution(data):\n",
    "    op_list = []\n",
    "    for x in data: # data를 순회합니다.\n",
    "        if sum(x[1:])>= 350: # x의 인데스 1부터 끝까지의 합이 350 이상일 경우를 구합니다.\n",
    "            op_list.append(x[0]) # op_list에 능력치 합이 350이 넘는 op캐릭터의 이름을 리스트에 추가합니다.        \n",
    "    return sorted(op_list)"
   ]
  }
 ],
 "metadata": {
  "language_info": {
   "name": "python"
  }
 },
 "nbformat": 4,
 "nbformat_minor": 2
}
