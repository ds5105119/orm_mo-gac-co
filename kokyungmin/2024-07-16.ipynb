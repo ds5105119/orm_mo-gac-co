{
 "cells": [
  {
   "cell_type": "markdown",
   "metadata": {},
   "source": [
    "https://100.pyalgo.co.kr/?page=24#  \n",
    " \n",
    "pyalgorithm basic 24번 문제\n",
    "\n",
    "Kadane's 알고리즘을 이용한 풀이 "
   ]
  },
  {
   "cell_type": "code",
   "execution_count": null,
   "metadata": {},
   "outputs": [],
   "source": [
    "def solution(data):\n",
    "    current_sum = max_sum = data[0] # max_sum과 current_sum을 배열 첫 번째로 설정합니다.\n",
    "    for num in data[1:]: # 배열의 두 번째 요소부터 순회를 시작합니다.\n",
    "        current_sum = max(num, current_sum + num)\n",
    "        # (현재 요소)와  (현재 요소 + 이전까지의 최대 부분의 합) 가운데 큰 것을 택함\n",
    "        max_sum = max(max_sum, current_sum) # 전체 과정에서 발견된 최대 부분합\n",
    "        \n",
    "    return max_sum\n",
    "    \n",
    "\n",
    "print(solution([1, -2, 3, 4, -1, 2, 1, -5, 4])) # 출력값 : 9\n",
    "print(solution([-2, -3, 4, -1, -2, 1, 5, -3])) # 출력값 : 7"
   ]
  },
  {
   "cell_type": "markdown",
   "metadata": {},
   "source": [
    "다양한 문제에 응용될 수 있음\n",
    "1. 최대 수익 구간 찾기\n",
    "2. 이미지 처리에서의 최대 밝기 영역 찾기\n",
    "3. 최대 비트 플립\n",
    "4. 최대 원형 부분 배열 합\n",
    "5. 최소 부분 배열 합\n",
    "6. 최대 곱 부분 배열\n",
    "7. 최대 합 경로(그리드)\n",
    "8. 최대 차이 부분 배열\n",
    "9. 최대 절대값 차이 부분 배열\n",
    "10. 최대 평균 부분 배열\n",
    "\n",
    "Kadane's 알고리즘의 핵심인 '현재 위치까지의 최적해'를 계속 추적하는 아이디어는 다양한 최적화 문제에 적용될 수 있음."
   ]
  },
  {
   "cell_type": "markdown",
   "metadata": {},
   "source": [
    "--------------------------"
   ]
  },
  {
   "cell_type": "markdown",
   "metadata": {},
   "source": [
    "https://100.pyalgo.co.kr/?page=25#   \n",
    "\n",
    "pyalgorithm basic 25번 문제   \n",
    "\n",
    "에라토스테네스의 체(Sieve of Eratosthenes) 알고리즘을을 이용한 풀이 "
   ]
  },
  {
   "cell_type": "code",
   "execution_count": null,
   "metadata": {},
   "outputs": [],
   "source": [
    "# 1. 구간 내 모든 숫자를 소수라고 가정\n",
    "# 2. 2부터 제시된 숫자의 제곱근까지 구간을 돌며 True라면 다음 구문을 실행\n",
    "# 3. 소수가 아닌 것을 찾으면 해당 수와 해당 수의 배수들을 False로 바꿈\n",
    "\n",
    "\n",
    "\n",
    "def solution(data):\n",
    "    if data < 2:\n",
    "        return 0\n",
    "    \n",
    "    # 모든 숫자를 소수로 가정하고 시작\n",
    "    is_prime = [True] * (data + 1) # [True, True,  ,True]\n",
    "    is_prime[0] = is_prime[1] = False  # [False, False, True, True,  ,True]\n",
    "    \n",
    "    for i in range(2, int(data**0.5) + 1):\n",
    "        if is_prime[i]:\n",
    "            # i의 배수들을 모두 소수가 아닌 것으로 표시\n",
    "            for j in range(i*i, data + 1, i): # i = 2 일때, j의 range는 4부터 2씩 커지는 숫자들을 순회함 (4,6,8,...) 즉 4부터 2의 배수를 순회\n",
    "                is_prime[j] = False # 해당 배수들의 인덱스를 False로 변경\n",
    "    \n",
    "    # True로 남아있는 숫자들의 개수를 세어 반환\n",
    "    return sum(is_prime)\n",
    "\n",
    "# 테스트\n",
    "print(solution(10))  # 예상 출력: 4 (2, 3, 5, 7)\n",
    "print(solution(100))  # 예상 출력: 25"
   ]
  },
  {
   "cell_type": "code",
   "execution_count": null,
   "metadata": {},
   "outputs": [],
   "source": [
    "# 알고리즘 사용안한 버전\n",
    "def solution(data):\n",
    "    result = 0\n",
    "    for i in range(2, data + 1):\n",
    "        is_prime = True\n",
    "        for j in range(2, int(i**0.5) + 1):\n",
    "            if i % j == 0:\n",
    "                is_prime = False\n",
    "                break\n",
    "        if is_prime:\n",
    "            result += 1\n",
    "    \n",
    "    return result\n",
    "\n",
    "# 테스트\n",
    "print(solution(10))  # 예상 출력: 4 (2, 3, 5, 7)"
   ]
  }
 ],
 "metadata": {
  "language_info": {
   "name": "python"
  }
 },
 "nbformat": 4,
 "nbformat_minor": 2
}
