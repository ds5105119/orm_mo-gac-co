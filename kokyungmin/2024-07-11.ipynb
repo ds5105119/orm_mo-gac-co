{
 "cells": [
  {
   "cell_type": "markdown",
   "metadata": {},
   "source": [
    "https://100.pyalgo.co.kr/?page=16#\n",
    "16번 문제"
   ]
  },
  {
   "cell_type": "code",
   "execution_count": null,
   "metadata": {},
   "outputs": [],
   "source": [
    "# 1. 날짜 형식을 \"y/m/d\"형식으로 바꾼다.\n",
    "# 2. 변경된 날짜 형식을 가지고 정렬한다.\n",
    "# 입력 = ['20-01-2024', '12/15/2023', '2022.05.30']\n",
    "# 출력 = ['2022/05/30', '2023/12/15', '2024/01/20']\n",
    "\n",
    "\n",
    "def solution(data):\n",
    "    def convert_date(date):\n",
    "        if \"-\"in date:\n",
    "            day, mon, year = date.split(\"-\")\n",
    "        elif \"/\"in date:\n",
    "            mon, day, year = date.split(\"/\")\n",
    "        elif \".\" in date:\n",
    "            year, mon, day = date.split(\".\")\n",
    "            \n",
    "        return f\"{year}/{mon.zfill(2)}/{day.zfill(2)}\"\n",
    "\n",
    "    converted_dates = [convert_date(date) for date in data]\n",
    "    return sorted(converted_dates)"
   ]
  },
  {
   "cell_type": "code",
   "execution_count": null,
   "metadata": {},
   "outputs": [],
   "source": [
    "# 1. 모듈을 가져온다.\n",
    "# 2. 문자열에서 datetime개체로 전환한다.\n",
    "# 3. 전환된 날짜를 정렬한다.\n",
    "# 4. 정렬된 날짜를 \"%Y/%m/%d\"형식의 문자열로 반환한다.\n",
    "# 입력 = ['20-01-2024', '12/15/2023', '2022.05.30']\n",
    "\n",
    "def solution(data):\n",
    "    from datetime import datetime\n",
    "    def convert_date(date):\n",
    "        formats = ['%d-%m-%Y', '%m/%d/%Y', '%Y.%m.%d']\n",
    "        for fms in formats:\n",
    "            try:\n",
    "                return datetime.strptime(date, fms) # for 구문으로 인해서 각각의 형식을 date에 대입 해보고, 맞을 때 datetime개체로 전환\n",
    "            except:\n",
    "                continue\n",
    "    parsed_dates = [convert_date(date) for date in data] # data에서 하나씩 빼와서 datetime 개체로 전환하고 리스트로 만든다.\n",
    "    sorted_dates = sorted(parsed_dates) # 날짜순으로 정렬\n",
    "    return [date.strftime('%Y/%m/%d') for date in sorted_dates] # 정렬한 날짜를 \"%Y/%m/%d\"형식의 문자열로 반환"
   ]
  }
 ],
 "metadata": {
  "language_info": {
   "name": "python"
  }
 },
 "nbformat": 4,
 "nbformat_minor": 2
}
