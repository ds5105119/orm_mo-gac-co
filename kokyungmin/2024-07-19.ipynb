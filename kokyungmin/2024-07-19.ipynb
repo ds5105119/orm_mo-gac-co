{
 "cells": [
  {
   "cell_type": "markdown",
   "metadata": {},
   "source": [
    "https://100.pyalgo.co.kr/?page=24#  \n",
    " \n",
    "pyalgorithm basic 44번 문제\n",
    "\n",
    "* 문제 설명    \n",
    "주어진 문자열에서 각 단어의 빈도수를 계산하는 함수를 작성해주세요. 단어는 공백으로 구분되며, 대소문자를 구분하지 않습니다. 반환되는 빈도수 정보는 사전 형태여야 합니다.    \n",
    "예를 들어, 문자열 \"Hello world, hello\"에서 함수는 {\"hello\": 2, \"world\": 1}을 반환해야 합니다.   \n",
    "\n",
    "* 제한 사항    \n",
    "문자열의 길이는 최대 1000자입니다.    \n",
    "문자열은 알파벳과 공백만 포함합니다."
   ]
  },
  {
   "cell_type": "markdown",
   "metadata": {},
   "source": []
  },
  {
   "cell_type": "code",
   "execution_count": null,
   "metadata": {},
   "outputs": [],
   "source": [
    "# data = \"Hello world, hello\"\n",
    "\n",
    "def solution(data):\n",
    "    changed_data = data.lower().replace(',',\"\").split(\" \")\n",
    "    # data를 소문자로 바꾸고, ','를 공백으로 바꿈, \" \"로 단어를 나눔\n",
    "    result = {} # 빈 딕셔너리 생성\n",
    "    for i in changed_data: # ['hello', 'world', 'hello']를 순서대로 순회\n",
    "        if i not in result: # 'hello'가 result리스트에 없으면\n",
    "            result[i] = 1  # 리스트에 'hello'라는 key와 value가 1인 쌍을 만듦\n",
    "        elif i in result: # 'hello'가 result리스트에 있다면\n",
    "            result[i] += 1 # 'hello'라는 key의 값을 1 상승시킨다.\n",
    "\n",
    "    return result"
   ]
  }
 ],
 "metadata": {
  "language_info": {
   "name": "python"
  }
 },
 "nbformat": 4,
 "nbformat_minor": 2
}
