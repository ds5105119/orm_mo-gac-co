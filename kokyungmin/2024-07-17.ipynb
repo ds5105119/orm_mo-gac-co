{
 "cells": [
  {
   "cell_type": "markdown",
   "metadata": {},
   "source": [
    "https://100.pyalgo.co.kr/?page=24#  \n",
    " \n",
    "pyalgorithm basic 24번 문제\n",
    "\n",
    "Kadane's 알고리즘을 이용한 풀이 "
   ]
  },
  {
   "cell_type": "code",
   "execution_count": null,
   "metadata": {},
   "outputs": [],
   "source": [
    "def solution(data):\n",
    "    numbers, target = data  \n",
    "    left, right = 0, len(numbers) - 1\n",
    "    closest_sum = float('inf')\n",
    "    result = 0\n",
    "    \n",
    "    while left < right:\n",
    "        current_sum = numbers[left] + numbers[right]\n",
    "        \n",
    "        if abs(current_sum - target) < abs(closest_sum - target):\n",
    "            closest_sum = current_sum\n",
    "            result = current_sum\n",
    "        \n",
    "        if current_sum < target:\n",
    "            left += 1\n",
    "        elif current_sum > target:\n",
    "            right -= 1\n",
    "        else:\n",
    "            return current_sum  # 정확히 타겟을 찾았으므로 바로 반환\n",
    "    \n",
    "    return result"
   ]
  }
 ],
 "metadata": {
  "language_info": {
   "name": "python"
  }
 },
 "nbformat": 4,
 "nbformat_minor": 2
}
