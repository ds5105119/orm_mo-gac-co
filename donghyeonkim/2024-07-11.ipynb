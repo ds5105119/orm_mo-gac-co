{
 "cells": [
  {
   "cell_type": "markdown",
   "metadata": {},
   "source": [
    "특정 노드 v1과 v2를 지나는 최적의 경로 찾기 (https://www.acmicpc.net/problem/1504)\n",
    "\n",
    "다익스트라 알고리즘을 사용하는 문제입니다.\n",
    "N개의 노드가 있는 그래프에서 v1과 v2를 지나면서 1에서 N으로 가는 최단 거리를 구해야 합니다.\n",
    "\n",
    "1 노드, v1 노드, v2 노드에서 다익스트라 알고리즘을 실행하고, 최단 거리를 구하면 됩니다."
   ]
  },
  {
   "cell_type": "code",
   "execution_count": null,
   "metadata": {},
   "outputs": [],
   "source": [
    "from sys import stdin\n",
    "\n",
    "\n",
    "def dijkstra(graph, u):\n",
    "    \"\"\"\n",
    "    :param graph: n * n 크기의 간선 가중치 배열\n",
    "    :param u: 탐색을 시작할 노드\n",
    "    :return: u로부터 다른 노드까지의 최단 거리 리스트\n",
    "    \"\"\"\n",
    "    # 거리, 방문 배열 초기화\n",
    "    dist = [float('inf')] * (n + 1)\n",
    "    vist = [False] * (n + 1)\n",
    "    dist[u] = 0\n",
    "    vist[0] = True\n",
    "\n",
    "    # 모든 노드를 방문합니다\n",
    "    while not all(vist):\n",
    "        vist[u] = True\n",
    "\n",
    "        # 지금까지 계산된 최적 거리보다 나은 경우 갱신합니다\n",
    "        for v in range(n + 1):\n",
    "            if dist[v] > dist[u] + graph[u][v]:\n",
    "                dist[v] = dist[u] + graph[u][v]\n",
    "\n",
    "        # 다음 노드를 선택합니다\n",
    "        if not all(vist):\n",
    "            u = filter(lambda x: not vist[x], range(n + 1))\n",
    "            u = sorted(u, key=lambda x: dist[x])[0]\n",
    "\n",
    "    return dist\n",
    "\n",
    "\n",
    "# n, m <- 노드와 간선의 개수, path <- 충분히 큰 값으로 초기화된 리스트\n",
    "n, m = map(int, stdin.readline().split())\n",
    "path = [[float('inf')] * (n + 1) for _ in range(n + 1)]\n",
    "\n",
    "# 가중치 입력받기\n",
    "for i in range(m):\n",
    "    u, v, k = map(int, stdin.readline().split())\n",
    "    path[u][v] = min(k, path[u][v])\n",
    "    path[v][u] = min(k, path[v][u])\n",
    "\n",
    "# 특정한 노드 v_1, v_2\n",
    "v_1, v_2 = map(int, stdin.readline().split())\n",
    "\n",
    "# 다익스트라\n",
    "d_1 = dijkstra(path, 1)\n",
    "d_2 = dijkstra(path, v_1)\n",
    "d_3 = dijkstra(path, v_2)\n",
    "\n",
    "# 최단 거리 구하기. 1 -> v_1 -> v_2 -> N, 1 -> v_2 -> v_1 -> N 중\n",
    "D = min(d_1[v_1] + d_2[v_2] + d_3[n], d_1[v_2] + d_3[v_1] + d_2[n])\n",
    "\n",
    "# inf인경우 -1을 출력\n",
    "print(D if D != float('inf') else -1)"
   ]
  }
 ],
 "metadata": {
  "language_info": {
   "name": "python"
  }
 },
 "nbformat": 4,
 "nbformat_minor": 2
}
