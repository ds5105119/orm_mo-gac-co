{
 "cells": [
  {
   "cell_type": "markdown",
   "metadata": {},
   "source": [
    "# Algorithm Basic 100\n",
    "[링크](https://100.pyalgo.co.kr/?page=40#)\n",
    "\n",
    "## Q40. 숫자 추출\n",
    "\n",
    "### 문제\n",
    " * 주어진 문자열에서 숫자와 쉼표만을 포함한 부분을 추출하고,\n",
    " * 쉼표를 제거하여 순수한 숫자만을 반환하는 함수를 작성\n",
    " * 문자열에 숫자가 없는 경우, 빈 문자열을 반환\n",
    "\n",
    "### 제한사항\n",
    " * 문자열은 숫자, 쉼표 그리고 다른 문자들을 포함할 수 있습니다.\n",
    " * 문자열의 길이는 최대 1000자 입니다."
   ]
  },
  {
   "cell_type": "code",
   "execution_count": 1,
   "metadata": {},
   "outputs": [],
   "source": [
    "# solution 1\n",
    "# 모든 과정을 풀어서 작성\n",
    "\n",
    "def solution(data) :\n",
    "    import re\n",
    "    \n",
    "    # 정규표현식을 이용하여 숫자와 쉼표만 추출\n",
    "    extraction = re.findall(r'[0-9,]+',data)\n",
    "    \n",
    "    # 추출시 따로 노는 숫자와 쉼표를 결합\n",
    "    comb = ''.join(extraction)\n",
    "    # 쉽표를 제외\n",
    "    result = comb.replace(',','')\n",
    "    \n",
    "    return result\n",
    "    "
   ]
  },
  {
   "cell_type": "code",
   "execution_count": 2,
   "metadata": {},
   "outputs": [],
   "source": [
    "# solution 2\n",
    "# 정규표현식 다음 과정을 한줄로 작성\n",
    "\n",
    "def solution(data) :\n",
    "    import re\n",
    "    \n",
    "    extraction = re.findall(r'[0-9]+',data)\n",
    "    \n",
    "    result = ''.join(extraction).replace(',','')\n",
    "    \n",
    "    return result "
   ]
  }
 ],
 "metadata": {
  "kernelspec": {
   "display_name": "base",
   "language": "python",
   "name": "python3"
  },
  "language_info": {
   "codemirror_mode": {
    "name": "ipython",
    "version": 3
   },
   "file_extension": ".py",
   "mimetype": "text/x-python",
   "name": "python",
   "nbconvert_exporter": "python",
   "pygments_lexer": "ipython3",
   "version": "3.11.7"
  }
 },
 "nbformat": 4,
 "nbformat_minor": 2
}
