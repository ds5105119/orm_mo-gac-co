{
 "cells": [
  {
   "cell_type": "markdown",
   "metadata": {},
   "source": [
    "# Algorithm Basic 100\n",
    "[링크](https://100.pyalgo.co.kr/?page=20#)\n",
    "\n",
    "## Q20. 타입 확인\n",
    "\n",
    "### 문제\n",
    " * 여러 클래스의 이름과 이 이름의 인스턴스가 주어집니다. 각 인스턴스가 특정 클래스의 인스턴스인지 확인하는 코드를 작성해주세요.\n",
    "### 제한사항\n",
    " * 클래스는 파이썬의 기본 데이터 타입입니다.\n",
    " * 안에 클래스와 인스턴스 매칭이 모두 올바른 경우 True를 그 외의 경우에는 False를 반환해주세요.\n",
    " * isinstance와 issubclass함수를 사용하진 않습니다."
   ]
  },
  {
   "cell_type": "code",
   "execution_count": 11,
   "metadata": {},
   "outputs": [],
   "source": [
    "# solution 1\n",
    "## isinstance 사용 \n",
    "\n",
    "def solution(data) : \n",
    "    for class_nm , instance in data : \n",
    "        # 문자열에 주어진 클래스 이름을 실제 객체로 변환\n",
    "        class_type = eval(class_nm)\n",
    "    \n",
    "        # 동일한지 확인\n",
    "        if not isinstance(instance , class_type) :\n",
    "            return False\n",
    "    return True\n",
    "\n"
   ]
  },
  {
   "cell_type": "code",
   "execution_count": 12,
   "metadata": {},
   "outputs": [],
   "source": [
    "# solution 2 \n",
    "## 실제 타입을 바로 들고오기 \n",
    "## eval을 사용하지 않아 보안문제를 피할 수 있음\n",
    "\n",
    "def solution(data) : \n",
    "    for exp_type_nm , instance in data : \n",
    "        # 실제 타입 이름을 문자열로 반환\n",
    "        actual_type_nm = type(instance).__name__\n",
    "        \n",
    "        # 예상한 타입 이름(exp_type_nm)과 실제 타입 이름(actual_type_nm)을 비교\n",
    "        if exp_type_nm != actual_type_nm : \n",
    "            return False\n",
    "    return True\n"
   ]
  },
  {
   "cell_type": "code",
   "execution_count": 13,
   "metadata": {},
   "outputs": [
    {
     "name": "stdout",
     "output_type": "stream",
     "text": [
      "True\n"
     ]
    }
   ],
   "source": [
    "#test \n",
    "test1 = [('list', [1, 2, 3]), ('int', 4), ('str', 'hello')]\n",
    "\n",
    "print(solution(test1))\n",
    "\n"
   ]
  }
 ],
 "metadata": {
  "kernelspec": {
   "display_name": "base",
   "language": "python",
   "name": "python3"
  },
  "language_info": {
   "codemirror_mode": {
    "name": "ipython",
    "version": 3
   },
   "file_extension": ".py",
   "mimetype": "text/x-python",
   "name": "python",
   "nbconvert_exporter": "python",
   "pygments_lexer": "ipython3",
   "version": "3.11.7"
  }
 },
 "nbformat": 4,
 "nbformat_minor": 2
}
