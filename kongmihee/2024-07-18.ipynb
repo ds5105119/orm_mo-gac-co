{
 "cells": [
  {
   "cell_type": "markdown",
   "metadata": {},
   "source": [
    "# Algorithm Basic 100\n",
    "[링크](https://100.pyalgo.co.kr/?page=19#)\n",
    "\n",
    "## Q19. 데이터 타입 확인\n",
    "\n",
    "### 문제\n",
    " * 다양한 데이터 타입을 가진 항목들이 리스트로 주어집니다. 이 리스트에 있는 각 항목의 데이터 타입을 확인하고, 해당 타입의 이름을 문자열로 반환하는 코드를 작성해주세요. 지원되는 데이터 타입은 정수(int), 실수(float), 문자열(str), 리스트(list), 튜플(tuple), 사전(dict)입니다.\n",
    "\n",
    "### 제한사항\n",
    " * 리스트는 다양한 데이터 타입의 항목을 포함할 수 있습니다.\n",
    " * 각 항목은 오직 한 가지 데이터 타입만을 가집니다.\n"
   ]
  },
  {
   "cell_type": "code",
   "execution_count": 2,
   "metadata": {},
   "outputs": [],
   "source": [
    "# solution 1 \n",
    "def solution(data) : \n",
    "    type_list = []\n",
    "    \n",
    "    for item in data : \n",
    "        if isinstance(item, bool) :\n",
    "            type_list.append('bool')\n",
    "        elif isinstance(item, int) :\n",
    "            type_list.append('int')\n",
    "        elif isinstance(item, float) :\n",
    "            type_list.append('float')\n",
    "        elif isinstance(item, str) :\n",
    "            type_list.append('str')\n",
    "        elif isinstance(item, list) :\n",
    "            type_list.append('list')\n",
    "        elif isinstance(item, tuple) :\n",
    "            type_list.append('tuple')\n",
    "        elif isinstance(item, dict) :\n",
    "            type_list.append('dict')\n",
    "    return type_list"
   ]
  },
  {
   "cell_type": "code",
   "execution_count": 3,
   "metadata": {},
   "outputs": [],
   "source": [
    "# solution2 \n",
    "def solution(data) : \n",
    "    type_map = {\n",
    "        int : 'int',\n",
    "        float : 'float',\n",
    "        str : 'str',\n",
    "        list : 'list',\n",
    "        tuple : 'tuple',\n",
    "        dict : 'dict',\n",
    "        bool : 'bool'\n",
    "    }\n",
    "    \n",
    "    #리스트 컴프리헨션\n",
    "    return [type_map[type(item)] for item in data ]\n"
   ]
  },
  {
   "cell_type": "code",
   "execution_count": 4,
   "metadata": {},
   "outputs": [],
   "source": [
    "# solution 3\n",
    "\n",
    "def solution(data) : \n",
    "    type_list = []\n",
    "    for i in data : \n",
    "        type_list.append(type(i).__name__)\n",
    "    return type_list\n"
   ]
  },
  {
   "cell_type": "code",
   "execution_count": 5,
   "metadata": {},
   "outputs": [
    {
     "name": "stdout",
     "output_type": "stream",
     "text": [
      "['int', 'float', 'str', 'list', 'tuple', 'dict']\n"
     ]
    }
   ],
   "source": [
    "# 예시 데이터\n",
    "data = [123, 4.56, 'hello', [1, 2, 3], (4, 5), {'a': 1, 'b': 2}]\n",
    "print(solution(data))  # 출력: ['int', 'float', 'str', 'list', 'tuple', 'dict']\n"
   ]
  }
 ],
 "metadata": {
  "kernelspec": {
   "display_name": "base",
   "language": "python",
   "name": "python3"
  },
  "language_info": {
   "codemirror_mode": {
    "name": "ipython",
    "version": 3
   },
   "file_extension": ".py",
   "mimetype": "text/x-python",
   "name": "python",
   "nbconvert_exporter": "python",
   "pygments_lexer": "ipython3",
   "version": "3.11.7"
  }
 },
 "nbformat": 4,
 "nbformat_minor": 2
}
