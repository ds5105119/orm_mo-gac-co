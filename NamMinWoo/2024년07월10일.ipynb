{
 "cells": [
  {
   "cell_type": "code",
   "execution_count": null,
   "metadata": {},
   "outputs": [],
   "source": [
    "# 알고리즘 100제 17번 문제\n",
    "from datetime import datetime # datetime 모듈 사용\n",
    "\n",
    "def get_recent_schedules(schedules):\n",
    "    # 모든 일정을 하나의 리스트로 합치기\n",
    "    all_schedules = [] \n",
    "    for day, dates in schedules.items(): # items() 라는 함수로 딕셔너리의 키,값의 쌍을 얻음\n",
    "        for date in dates:\n",
    "            all_schedules.append((date, day)) # 스케쥴 딕셔너리에서 각요일의 날짜리스트를 반복하면서, 날짜와 요일을 튜플로 \n",
    "    \n",
    "    # 날짜를 기준으로 내림차순 정렬\n",
    "    all_schedules.sort(reverse=True)\n",
    "    \n",
    "    # 최근 3개 일정 추출 및 형식 변환\n",
    "    recent_schedules = []\n",
    "    for date, day in all_schedules[:3]:\n",
    "        dt = datetime.strptime(date, '%Y-%m-%d')\n",
    "        formatted_date = dt.strftime('%y-%m-%d')\n",
    "        recent_schedules.append(f'{formatted_date} {day}')\n",
    "    \n",
    "    return recent_schedules\n",
    "\n",
    "# 테스트\n",
    "schedules = {\n",
    "    '월': ['2024-01-01', '2024-01-08', '2024-01-15', '2024-01-22'],\n",
    "    '화': ['2024-01-02', '2024-01-09', '2024-01-16'],\n",
    "    '수': ['2024-01-03', '2024-01-10'],\n",
    "    '목': ['2024-01-04', '2024-01-11', '2024-01-18'],\n",
    "    '금': ['2024-01-05', '2024-01-12', '2024-01-19', '2024-01-26']\n",
    "}\n",
    "\n",
    "result = get_recent_schedules(schedules)\n",
    "print(result)"
   ]
  },
  {
   "cell_type": "code",
   "execution_count": null,
   "metadata": {},
   "outputs": [],
   "source": []
  }
 ],
 "metadata": {
  "kernelspec": {
   "display_name": "Python 3",
   "language": "python",
   "name": "python3"
  },
  "language_info": {
   "name": "python",
   "version": "3.12.4"
  }
 },
 "nbformat": 4,
 "nbformat_minor": 2
}
