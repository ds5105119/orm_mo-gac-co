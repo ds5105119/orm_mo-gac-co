{
 "cells": [
  {
   "cell_type": "markdown",
   "metadata": {},
   "source": [
    "정수 배열 numbers가 매개변수로 주어집니다. numbers의 원소 중 두 개를 곱해 만들 수 있는 최댓값을 return하도록 solution 함수를 완성해주세요."
   ]
  },
  {
   "cell_type": "code",
   "execution_count": null,
   "metadata": {},
   "outputs": [],
   "source": [
    "numbers = [0, -31, 24, 10, 1, 9]\n",
    "def solution(numbers):\n",
    "    numbers2 = sorted(numbers)\n",
    "    mini =numbers2[0] * numbers2[1]\n",
    "    maxi = numbers2[-1] * numbers2 [-2]\n",
    "    answer = max(mini,maxi)\n",
    "    return answer\n",
    "\n",
    "# 더욱 간결한 답 \n",
    "\n",
    "def solution(numbers):\n",
    "    numbers = sorted(numbers)\n",
    "    return max(numbers[0] * numbers[1], numbers[-1]*numbers[-2]) "
   ]
  },
  {
   "cell_type": "markdown",
   "metadata": {},
   "source": [
    "정수가 들어 있는 배열 num_list가 매개변수로 주어집니다. num_list의 원소의 순서를 거꾸로 뒤집은 배열을 return하도록 solution 함수를 완성해주세요."
   ]
  },
  {
   "cell_type": "code",
   "execution_count": null,
   "metadata": {},
   "outputs": [],
   "source": [
    "def solution(num_list):\n",
    "    answer = num_list[::-1]\n",
    "    return answer"
   ]
  },
  {
   "cell_type": "markdown",
   "metadata": {},
   "source": [
    "어떤 자연수를 제곱했을 때 나오는 정수를 제곱수라고 합니다. 정수 n이 매개변수로 주어질 때, n이 제곱수라면 1을 아니라면 2를 return하도록 solution 함수를 완성해주세요."
   ]
  },
  {
   "cell_type": "code",
   "execution_count": null,
   "metadata": {},
   "outputs": [],
   "source": [
    "import math\n",
    "\n",
    "def solution(n):\n",
    "    root = math.sqrt(n) # n의 제곱근을 구하는 math 함수\n",
    "\n",
    "    if root.is_integer():\n",
    "        #is_integer() 메서드이 메서드는 float(부동소수점) 타입의 숫자에 대해 사용할 수 있습니다.\n",
    "        # 해당 숫자가 정수값을 가지고 있는지 확인합니다.\n",
    "        # 결과로 True 또는 False를 반환합니다.\n",
    "        return 1\n",
    "    else:\n",
    "        return 2"
   ]
  },
  {
   "cell_type": "markdown",
   "metadata": {},
   "source": [
    "머쓱이네 피자가게는 피자를 두 조각에서 열 조각까지 원하는 조각 수로 잘라줍니다. 피자 조각 수 slice와 피자를 먹는 사람의 수 n이 매개변수로 주어질 때, n명의 사람이 최소 한 조각 이상 피자를 먹으려면 최소 몇 판의 피자를 시켜야 하는지를 return 하도록 solution 함수를 완성해보세요."
   ]
  },
  {
   "cell_type": "code",
   "execution_count": null,
   "metadata": {},
   "outputs": [],
   "source": [
    "import math\n",
    "\n",
    "def solution(slice, n):\n",
    "    num = n / slice \n",
    "    \n",
    "    answer = math.ceil(num) # 올림 함수 ceil()\n",
    "    return answer"
   ]
  },
  {
   "cell_type": "markdown",
   "metadata": {},
   "source": [
    "사분면은 한 평면을 x축과 y축을 기준으로 나눈 네 부분입니다. 사분면은 아래와 같이 1부터 4까지 번호를매깁니다.\n",
    "\n",
    "x 좌표와 y 좌표가 모두 양수이면 제1사분면에 속합니다.\n",
    "x 좌표가 음수, y 좌표가 양수이면 제2사분면에 속합니다.\n",
    "x 좌표와 y 좌표가 모두 음수이면 제3사분면에 속합니다.\n",
    "x 좌표가 양수, y 좌표가 음수이면 제4사분면에 속합니다.\n",
    "x 좌표 (x, y)를 차례대로 담은 정수 배열 dot이 매개변수로 주어집니다. 좌표 dot이 사분면 중 어디에 속하는지 1, 2, 3, 4 중 하나를 return 하도록 solution 함수를 완성해주세요."
   ]
  },
  {
   "cell_type": "code",
   "execution_count": null,
   "metadata": {},
   "outputs": [],
   "source": [
    "# 내가 쓴 답 \n",
    "def solution(dot):\n",
    "    if dot[0] > 0 and dot[1] > 0:\n",
    "        return 1\n",
    "    elif dot[0] > 0 and dot[1] < 0:\n",
    "        return 4\n",
    "    elif dot[0] < 0 and dot[1] > 0:\n",
    "        return 2\n",
    "    else:\n",
    "        return 3\n",
    "\n",
    "# 인상적인 답\n",
    "def solution(dot):\n",
    "    quad = [(3,2),(4,1)]\n",
    "    return quad[dot[0] > 0][dot[1] > 0]\n",
    "'''\n",
    "quad = [(3,2),(4,1)]:\n",
    "\n",
    "이것은 2x2 행렬처럼 구성된 리스트입니다.\n",
    "각 요소는 특정 조건에 따른 사분면 번호를 나타냅니다.\n",
    "\n",
    "\n",
    "return quad[dot[0] > 0][dot[1] > 0]:\n",
    "\n",
    "이 줄에서 실제 계산이 이루어집니다.\n",
    "dot[0] > 0은 x좌표가 양수인지 확인합니다. True면 1, False면 0을 반환합니다.\n",
    "dot[1] > 0은 y좌표가 양수인지 확인합니다. 마찬가지로 True면 1, False면 0을 반환합니다.\n",
    "\n",
    "\n",
    "작동 원리:\n",
    "\n",
    "x가 음수(False=0)이고 y가 음수(False=0)이면: quad[0][0] = 3 (제3사분면)\n",
    "x가 음수(False=0)이고 y가 양수(True=1)이면: quad[0][1] = 2 (제2사분면)\n",
    "x가 양수(True=1)이고 y가 음수(False=0)이면: quad[1][0] = 4 (제4사분면)\n",
    "x가 양수(True=1)이고 y가 양수(True=1)이면: quad[1][1] = 1 (제1사분면)\n",
    "\n",
    "이 방식은 if-else 문을 사용하지 않고도 간단히 사분면을 결정할 수 있게 해줍니다. 불리언 값(True/False)을 인덱스로 사용하여 적절한 사분면 번호를 선택하는 매우 창의적인 접근법입니다.\n",
    "\n",
    "'''"
   ]
  },
  {
   "cell_type": "markdown",
   "metadata": {},
   "source": [
    "정수 n이 매개변수로 주어질 때 n의 각 자리 숫자의 합을 return하도록 solution 함수를 완성해주세요"
   ]
  },
  {
   "cell_type": "code",
   "execution_count": null,
   "metadata": {},
   "outputs": [],
   "source": [
    "def solution(n):\n",
    "    answer = 0\n",
    "    num_list = str(n) # 문자열로 변환하여 순회가능하게 만듬\n",
    "    for i in num_list:  # 루프 생성    \n",
    "        answer += int(i) # 정수로 변환하여 합침\n",
    "        \n",
    "    return answer"
   ]
  },
  {
   "cell_type": "markdown",
   "metadata": {},
   "source": [
    "문제 설명\n",
    "정수가 담긴 리스트 num_list가 주어질 때, num_list의 원소 중 짝수와 홀수의 개수를 담은 배열을 return 하도록 solution 함수를 완성해보세요."
   ]
  },
  {
   "cell_type": "code",
   "execution_count": null,
   "metadata": {},
   "outputs": [],
   "source": [
    "# 내가 쓴답\n",
    "def solution(num_list):\n",
    "    answer = 0\n",
    "    answer2 = 0\n",
    "    for i in num_list:\n",
    "        if i % 2 == 0 :\n",
    "            answer += 1\n",
    "            \n",
    "        else :\n",
    "            answer2 += 1\n",
    "            \n",
    "    return answer, answer2\n",
    "\n",
    "'''\n",
    "다른사람의 영리한 풀이\n",
    "def solution(num_list):\n",
    "    answer = [0,0]\n",
    "    for n in num_list:\n",
    "        answer[n%2]+=1\n",
    "    return answer\n",
    "\n",
    "'''"
   ]
  }
 ],
 "metadata": {
  "language_info": {
   "name": "python"
  }
 },
 "nbformat": 4,
 "nbformat_minor": 2
}
