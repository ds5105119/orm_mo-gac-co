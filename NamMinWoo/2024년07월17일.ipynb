{
 "cells": [
  {
   "cell_type": "markdown",
   "metadata": {},
   "source": [
    "문제 설명\n",
    "\n",
    "영소문자로 이루어진 문자열 my_string과 영소문자 1글자로 이루어진 문자열 alp가 매개변수로 주어질 때, my_string에서 alp에 해당하는 모든 글자를 대문자로 바꾼 문자열을 return 하는 solution 함수를 작성해 주세요."
   ]
  },
  {
   "cell_type": "code",
   "execution_count": 1,
   "metadata": {},
   "outputs": [],
   "source": [
    "def solution(my_string, alp):\n",
    "    answer = ''\n",
    "    for i in my_string: # my_string 변수를 반복하였다\n",
    "        if i == alp: \n",
    "            answer += i.upper()\n",
    "        else :\n",
    "            answer += i\n",
    "            \n",
    "\n",
    "    return answer\n",
    "\n",
    "# 다른 정답\n",
    "def solution(my_string, alp):\n",
    "    return my_string.replace(alp, alp.upper()) #alp는 바뀌는 인자, alp.upper() 바꿀인자.\n",
    "# "
   ]
  },
  {
   "cell_type": "markdown",
   "metadata": {},
   "source": [
    "문제 설명\n",
    "문자열 myString이 주어집니다. myString에서 알파벳 \"a\"가 등장하면 전부 \"A\"로 변환하고, \"A\"가 아닌 모든 대문자 알파벳은 소문자 알파벳으로 변환하여 return 하는 solution 함수를 완성하세요."
   ]
  },
  {
   "cell_type": "code",
   "execution_count": 2,
   "metadata": {},
   "outputs": [],
   "source": [
    "def solution(myString):\n",
    "    answer = ''\n",
    "    for i in myString:\n",
    "        if i == 'a':\n",
    "            answer += i.upper()\n",
    "        else :\n",
    "            answer += i.lower()\n",
    "            \n",
    "    return answer\n",
    "\n",
    "# 나의 답 \n",
    "# 코딩에 문제점이 있는데 만약 만약 변수가 A가 들어오면 if i == a와 다르기때문에. else문을 실행시켜 A가 a 가된다.그래서\"A\"가 아닌 모든 대문자 알파벳은 소문자 알파벳으로 변환의 조건을 충족시키지 못했다."
   ]
  },
  {
   "cell_type": "code",
   "execution_count": null,
   "metadata": {},
   "outputs": [],
   "source": [
    "# 개선 코드\n",
    "\n",
    "def solution(myString):\n",
    "    answer = ''\n",
    "    for i in myString:\n",
    "        if i in 'aA': \n",
    "            answer += 'A' # in 을사용하여 소문자 ,대문자 둘다 A 로 유지하게 하였다./\n",
    "        else:\n",
    "            answer += i.lower()\n",
    "    return answer\n",
    "\n",
    "# 깔끔한 답\n",
    "def solution(myString):\n",
    "    return myString.lower().replace('a', 'A')"
   ]
  }
 ],
 "metadata": {
  "kernelspec": {
   "display_name": "Python 3",
   "language": "python",
   "name": "python3"
  },
  "language_info": {
   "codemirror_mode": {
    "name": "ipython",
    "version": 3
   },
   "file_extension": ".py",
   "mimetype": "text/x-python",
   "name": "python",
   "nbconvert_exporter": "python",
   "pygments_lexer": "ipython3",
   "version": "3.12.4"
  }
 },
 "nbformat": 4,
 "nbformat_minor": 2
}
