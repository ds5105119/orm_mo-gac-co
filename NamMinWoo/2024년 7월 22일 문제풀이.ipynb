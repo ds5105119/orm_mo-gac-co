{
 "cells": [
  {
   "cell_type": "markdown",
   "metadata": {},
   "source": [
    "문자열 배열 strArr가 주어집니다. 모든 원소가 알파벳으로만 이루어져 있을 때, 배열에서 홀수번째 인덱스의 문자열은 모든 문자를 대문자로, 짝수번째 인덱스의 문자열은 모든 문자를 소문자로 바꿔서 반환하는 solution 함수를 완성해 주세요."
   ]
  },
  {
   "cell_type": "code",
   "execution_count": 1,
   "metadata": {},
   "outputs": [],
   "source": [
    "def solution(strArr):\n",
    "    answer = []\n",
    "    for i, s in enumerate(strArr):\n",
    "        if i % 2 == 0:\n",
    "            answer.append(s.lower())\n",
    "        else:\n",
    "            answer.append(s.upper())\n",
    "    return answer"
   ]
  },
  {
   "cell_type": "code",
   "execution_count": null,
   "metadata": {},
   "outputs": [],
   "source": [
    "# enumerate 메서드\n",
    "# for i, s in enumerate(순회가능한 객체) 함수 \n",
    "# 현재 원소의 인덱스 i 에 현재 원소 s\n",
    "# 만약 strARr = [\"AAA\", \"bbb\", \"CCC\", \"ddd\"] 라면\n",
    "# 출력은 [\"aaa\", \"BBB\", \"ccc\", \"DDD\"]"
   ]
  },
  {
   "cell_type": "markdown",
   "metadata": {},
   "source": [
    "알파벳으로 이루어진 문자열 myString과 pat이 주어집니다. myString의 연속된 부분 문자열 중 pat이 존재하면 1을 그렇지 않으면 0을 return 하는 solution 함수를 완성해 주세요.\n",
    "\n",
    "단, 알파벳 대문자와 소문자는 구분하지 않습니다."
   ]
  },
  {
   "cell_type": "code",
   "execution_count": null,
   "metadata": {},
   "outputs": [],
   "source": [
    "def solution(myString, pat):\n",
    "    AA = myString.upper()\n",
    "    aa = pat.upper()\n",
    "    \n",
    "    if AA.find(aa) != -1:\n",
    "        return 1\n",
    "    else:\n",
    "        return 0"
   ]
  },
  {
   "cell_type": "code",
   "execution_count": null,
   "metadata": {},
   "outputs": [],
   "source": [
    "## find() 메서드\n",
    "# find() 찾고자하는 문자열이 존재하면 그 시작 인덱스를, 존재하지 않으면 -1을 반환합니다.\n",
    "#if AA.find(aa) != -1: 조건문은 은 aa가 AA에 존재하는 모든 경우를 확인합니다. 즉, aa가 AA의 인덱스 어느 위치에서든 발견되면 이 조건은 참이 됩니다.\n"
   ]
  },
  {
   "cell_type": "markdown",
   "metadata": {},
   "source": [
    "정수가 담긴 리스트 num_list가 주어질 때, 리스트의 길이가 11 이상이면 리스트에 있는 모든 원소의 합을 10 이하이면 모든 원소의 곱을 return하도록 solution 함수를 완성해주세요.\n",
    "\n"
   ]
  },
  {
   "cell_type": "code",
   "execution_count": 6,
   "metadata": {},
   "outputs": [],
   "source": [
    "# 내가 작성한 답  \n",
    "def solution(num_list):\n",
    "    answer = 0\n",
    "    answer1 = 1\n",
    "    if len(num_list) >= 11:\n",
    "        for i in num_list:\n",
    "            answer += i\n",
    "        return answer\n",
    "    else:\n",
    "        for i in num_list:\n",
    "            answer1 *= i\n",
    "        return answer1\n",
    "\n",
    "# 간결한 답\n",
    "def solution(num_list):\n",
    "    if len(num_list) >= 11:\n",
    "        return sum(num_list)\n",
    "    else:\n",
    "        return eval('*'.join(map(str, num_list)))\n",
    "    #모든 숫자를 글자로 바꿈 map(str, num_list)\n",
    "    # 이 글자들 사이에 곱하기 표시()를 넣어요 *'.join(map(str, num_list))\n",
    "    # 문자열도 식으로 변환해주는 eval('*'.join(map(str, num_list))) 사용"
   ]
  },
  {
   "cell_type": "markdown",
   "metadata": {},
   "source": [
    "정수 배열 arr가 주어집니다. arr의 각 원소에 대해 값이 50보다 크거나 같은 짝수라면 2로 나누고, 50보다 작은 홀수라면 2를 곱합니다. 그 결과인 정수 배열을 return 하는 solution 함수를 완성해 주세요.\n",
    "\n"
   ]
  },
  {
   "cell_type": "code",
   "execution_count": 10,
   "metadata": {},
   "outputs": [
    {
     "ename": "SyntaxError",
     "evalue": "cannot assign to expression here. Maybe you meant '==' instead of '='? (1035796341.py, line 6)",
     "output_type": "error",
     "traceback": [
      "\u001b[1;36m  Cell \u001b[1;32mIn[10], line 6\u001b[1;36m\u001b[0m\n\u001b[1;33m    i / 2 = arr2.append(i)\u001b[0m\n\u001b[1;37m    ^\u001b[0m\n\u001b[1;31mSyntaxError\u001b[0m\u001b[1;31m:\u001b[0m cannot assign to expression here. Maybe you meant '==' instead of '='?\n"
     ]
    }
   ],
   "source": [
    "# 내가 쓴 답\n",
    "def solution(arr):\n",
    "    arr2 = []\n",
    "    for i in arr:\n",
    "        if i > 50 and i % 2 == 0:\n",
    "            i / 2 = arr2.append(i)\n",
    "            \n",
    "        elif i < 50 and i % 2 != 0:\n",
    "            i * 2 = arr2.append(i)\n",
    "        \n",
    "        else:\n",
    "            arr2.append(i)\n",
    "            \n",
    "    return arr2\n",
    "\n",
    "# append() 문에서 i의 계산 append (이 영역에서 했어야함.)"
   ]
  },
  {
   "cell_type": "code",
   "execution_count": 11,
   "metadata": {},
   "outputs": [],
   "source": [
    "# 정답\n",
    "def solution(arr):\n",
    "    answer = []\n",
    "    for num in arr:\n",
    "        if num >= 50 and num % 2 == 0:\n",
    "            answer.append(num // 2)\n",
    "        elif num < 50 and num % 2 == 1:\n",
    "            answer.append(num * 2)\n",
    "        else:\n",
    "            answer.append(num)\n",
    "    return answer"
   ]
  },
  {
   "cell_type": "markdown",
   "metadata": {},
   "source": [
    "정수 배열 numbers와 정수 n이 매개변수로 주어집니다. numbers의 원소를 앞에서부터 하나씩 더하다가 그 합이 n보다 커지는 순간 이때까지 더했던 원소들의 합을 return 하는 solution 함수를 작성해 주세요."
   ]
  },
  {
   "cell_type": "code",
   "execution_count": null,
   "metadata": {},
   "outputs": [],
   "source": [
    "def solution(numbers, n):\n",
    "    answer = 0\n",
    "    \n",
    "    for i in numbers:\n",
    "        answer += i\n",
    "        if answer > n:\n",
    "            return answer"
   ]
  }
 ],
 "metadata": {
  "kernelspec": {
   "display_name": "Python 3",
   "language": "python",
   "name": "python3"
  },
  "language_info": {
   "codemirror_mode": {
    "name": "ipython",
    "version": 3
   },
   "file_extension": ".py",
   "mimetype": "text/x-python",
   "name": "python",
   "nbconvert_exporter": "python",
   "pygments_lexer": "ipython3",
   "version": "3.12.4"
  }
 },
 "nbformat": 4,
 "nbformat_minor": 2
}
