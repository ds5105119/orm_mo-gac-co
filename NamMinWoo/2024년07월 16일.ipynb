{
 "cells": [
  {
   "cell_type": "markdown",
   "metadata": {},
   "source": [
    "순서쌍이란 두 개의 숫자를 순서를 정하여 짝지어 나타낸 쌍으로 (a, b)로 표기합니다. 자연수 n이 매개변수로 주어질 때 두 숫자의 곱이 n인 자연수 순서쌍의 개수를 return하도록 solution 함수를 완성해주세요."
   ]
  },
  {
   "cell_type": "code",
   "execution_count": null,
   "metadata": {},
   "outputs": [],
   "source": [
    "# 내가 푼 풀이\n",
    "import math\n",
    "\n",
    "def solution(n):\n",
    "    re = []\n",
    "    n_root = math.sqrt(n)\n",
    "    for i in int(n_root):\n",
    "        n_root2 = n_root / n\n",
    "        re.apeend(n_root, n_root2)\n",
    "    return re\n",
    "\n"
   ]
  },
  {
   "cell_type": "code",
   "execution_count": null,
   "metadata": {},
   "outputs": [],
   "source": [
    "# 문제 해석 \n",
    "import math\n",
    "\n",
    "def solution(n):\n",
    "    # 순서쌍의 개수를 저장할 변수를 초기화합니다.\n",
    "    count = 0\n",
    "    \n",
    "    # 1부터 n의 제곱근까지 반복합니다.\n",
    "    # int(math.sqrt(n)) + 1을 사용하는 이유는 제곱근이 정수가 아닐 경우 올림을 하기 위함입니다.\n",
    "    for i in range(1, int(math.sqrt(n)) + 1):\n",
    "        \n",
    "        # 현재 숫자 i가 n의 약수인지 확인합니다.\n",
    "        if n % i == 0:\n",
    "            \n",
    "            # i가 n의 제곱근과 같은 경우 (즉, n이 i의 제곱인 경우)\n",
    "            if i * i == n:\n",
    "                # (i, i) 형태의 순서쌍 하나만 추가합니다.\n",
    "                count += 1\n",
    "            \n",
    "            # i가 n의 제곱근이 아닌 경우\n",
    "            else:\n",
    "                # (i, n//i)와 (n//i, i) 두 개의 순서쌍을 추가합니다.\n",
    "                count += 2\n",
    "    \n",
    "    # 최종적으로 계산된 순서쌍의 개수를 반환합니다.\n",
    "    return count"
   ]
  },
  {
   "cell_type": "markdown",
   "metadata": {},
   "source": [
    "개미 군단이 사냥을 나가려고 합니다. 개미군단은 사냥감의 체력에 딱 맞는 병력을 데리고 나가려고 합니다. 장군개미는 5의 공격력을, 병정개미는 3의 공격력을 일개미는 1의 공격력을 가지고 있습니다. 예를 들어 체력 23의 여치를 사냥하려고 할 때, 일개미 23마리를 데리고 가도 되지만, 장군개미 네 마리와 병정개미 한 마리를 데리고 간다면 더 적은 병력으로 사냥할 수 있습니다. 사냥감의 체력 hp가 매개변수로 주어질 때, 사냥감의 체력에 딱 맞게 최소한의 병력을 구성하려면 몇 마리의 개미가 필요한지를 return하도록 solution 함수를 완성해주세요"
   ]
  },
  {
   "cell_type": "code",
   "execution_count": null,
   "metadata": {},
   "outputs": [],
   "source": [
    "# 아예 풀지 못한문제 그리디 알고리즘\n",
    "def solution(hp):\n",
    "    count = 0  # 총 개미 수를 세는 변수\n",
    "\n",
    "    # 장군개미 (공격력 5)\n",
    "    count += hp // 5  # 5로 나눈 몫이 필요한 장군개미의 수\n",
    "    hp = hp % 5  # 5로 나눈 나머지가 남은 체력\n",
    "\n",
    "    # 병정개미 (공격력 3)\n",
    "    count += hp // 3  # 3으로 나눈 몫이 필요한 병정개미의 수\n",
    "    hp = hp % 3  # 3으로 나눈 나머지가 남은 체력\n",
    "\n",
    "    # 일개미 (공격력 1)\n",
    "    count += hp  # 남은 체력이 곧 필요한 일개미의 수\n",
    "\n",
    "    return count"
   ]
  },
  {
   "cell_type": "code",
   "execution_count": null,
   "metadata": {},
   "outputs": [],
   "source": [
    "# 좋은 답변\n",
    "def solution(hp):    \n",
    "    return hp // 5 + (hp % 5 // 3) + ((hp % 5) % 3)"
   ]
  }
 ],
 "metadata": {
  "kernelspec": {
   "display_name": "Python 3",
   "language": "python",
   "name": "python3"
  },
  "language_info": {
   "name": "python",
   "version": "3.12.4"
  }
 },
 "nbformat": 4,
 "nbformat_minor": 2
}
